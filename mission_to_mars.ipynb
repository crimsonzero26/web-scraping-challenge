{
 "cells": [
  {
   "cell_type": "markdown",
   "id": "e3466b59",
   "metadata": {},
   "source": [
    "# Setup"
   ]
  },
  {
   "cell_type": "code",
   "execution_count": null,
   "id": "67121e31",
   "metadata": {},
   "outputs": [],
   "source": [
    "from splinter import Browser\n",
    "from bs4 import BeautifulSoup\n",
    "from webdriver_manager.chrome import ChromeDriverManager\n",
    "import requests\n",
    "import pandas as pd"
   ]
  },
  {
   "cell_type": "code",
   "execution_count": null,
   "id": "13171169",
   "metadata": {},
   "outputs": [],
   "source": [
    "executable_path = {'executable_path': ChromeDriverManager().install()}\n",
    "browser = Browser('chrome', **executable_path, headless=False)"
   ]
  },
  {
   "cell_type": "code",
   "execution_count": null,
   "id": "6df46e5b",
   "metadata": {},
   "outputs": [],
   "source": [
    "# Visit Nasa news url through splinter module\n",
    "url = 'https://redplanetscience.com'\n",
    "browser.visit(url)"
   ]
  },
  {
   "cell_type": "code",
   "execution_count": null,
   "id": "a8d602b1",
   "metadata": {},
   "outputs": [],
   "source": [
    "html = browser.html\n",
    "# Create beautifulsoup object; parse with 'html.parser'\n",
    "soup = BeautifulSoup(html, 'html.parser')"
   ]
  },
  {
   "cell_type": "markdown",
   "id": "bed49e36",
   "metadata": {},
   "source": [
    "# NASA Mars News"
   ]
  },
  {
   "cell_type": "code",
   "execution_count": null,
   "id": "0047d550",
   "metadata": {},
   "outputs": [],
   "source": [
    "# Get the latest News Title and Paragraph Text\n",
    "news_title = soup.find('div', class_='content_title').text\n",
    "news_p = soup.find('div', class_='article_teaser_body').text\n",
    "print(news_title)\n",
    "print(news_p)"
   ]
  },
  {
   "cell_type": "markdown",
   "id": "9dc9622c",
   "metadata": {},
   "source": [
    "# JPL Mars Space Images—Featured Image"
   ]
  },
  {
   "cell_type": "code",
   "execution_count": null,
   "id": "b4639fb8",
   "metadata": {},
   "outputs": [],
   "source": [
    "# Visit Mars Space Images through splinter module\n",
    "image_url = 'https://spaceimages-mars.com/'\n",
    "browser.visit(image_url)"
   ]
  },
  {
   "cell_type": "code",
   "execution_count": null,
   "id": "c1e2b15b",
   "metadata": {},
   "outputs": [],
   "source": [
    "image_html = browser.html\n",
    "# Create BeautifulSoup object; parse with 'html.parser'\n",
    "soup = BeautifulSoup(image_html, 'html.parser')"
   ]
  },
  {
   "cell_type": "code",
   "execution_count": null,
   "id": "2a8ba726",
   "metadata": {},
   "outputs": [],
   "source": [
    "# Retrieve featured background image url\n",
    "featured_image_url = soup.find('img', class_='headerimage fade-in')['src']\n",
    "featured_image_url = image_url + featured_image_url"
   ]
  },
  {
   "cell_type": "code",
   "execution_count": null,
   "id": "69992cf7",
   "metadata": {},
   "outputs": [],
   "source": [
    "featured_image_url\n"
   ]
  },
  {
   "cell_type": "markdown",
   "id": "d79af012",
   "metadata": {},
   "source": [
    "# Mars Facts"
   ]
  },
  {
   "cell_type": "code",
   "execution_count": null,
   "id": "7afc386b",
   "metadata": {},
   "outputs": [],
   "source": [
    "# Scrape Mars facts from https://space-facts.com/mars/\n",
    "url='https://galaxyfacts-mars.com/'\n",
    "tables=pd.read_html(url)\n",
    "tables"
   ]
  },
  {
   "cell_type": "code",
   "execution_count": null,
   "id": "d2001025",
   "metadata": {},
   "outputs": [],
   "source": [
    "mars_fact=tables[0]\n",
    "mars_fact=mars_fact.rename(columns={0:\"Profile\",1:\"Value\"},errors=\"raise\")\n",
    "mars_fact.set_index(\"Profile\",inplace=True)\n",
    "mars_fact"
   ]
  },
  {
   "cell_type": "code",
   "execution_count": null,
   "id": "5a5deea9",
   "metadata": {},
   "outputs": [],
   "source": [
    "fact_table=mars_fact.to_html()\n",
    "fact_table"
   ]
  },
  {
   "cell_type": "code",
   "execution_count": null,
   "id": "afaefcff",
   "metadata": {},
   "outputs": [],
   "source": [
    "fact_table.replace('\\n','')\n",
    "print(fact_table)"
   ]
  },
  {
   "cell_type": "markdown",
   "id": "bc9d6f02",
   "metadata": {},
   "source": [
    "# Mars Hemispheres"
   ]
  },
  {
   "cell_type": "code",
   "execution_count": null,
   "id": "4b30ece7",
   "metadata": {},
   "outputs": [],
   "source": [
    "# Visit hemispheres website through splinter module \n",
    "hemispheres_url = 'https://marshemispheres.com/'\n",
    "browser.visit(hemispheres_url)"
   ]
  },
  {
   "cell_type": "code",
   "execution_count": null,
   "id": "829ff948",
   "metadata": {},
   "outputs": [],
   "source": [
    "html = browser.html\n",
    "# Create BeautifulSoup object; parse with 'html.parser'\n",
    "soup = BeautifulSoup(html, 'html.parser')"
   ]
  },
  {
   "cell_type": "code",
   "execution_count": null,
   "id": "5d91a0c1",
   "metadata": {},
   "outputs": [],
   "source": [
    "items = soup.find_all('div', class_='item')"
   ]
  },
  {
   "cell_type": "code",
   "execution_count": null,
   "id": "d1a0859b",
   "metadata": {},
   "outputs": [],
   "source": [
    "hemisphere_img_urls = []\n",
    "for item in items:\n",
    "    title = item.find('h3').text\n",
    "    hemisphere_url = 'https://marshemispheres.com/' + item.find('a', class_='itemLink product-item')['href']\n",
    "    \n",
    "    browser.visit(hemisphere_url)\n",
    "    html = browser.html\n",
    "    soup = BeautifulSoup(html, 'html.parser')\n",
    "    hemisphere_img_url = 'https://marshemispheres.com/' + soup.find('img', class_='wide-image')['src']\n",
    "    hemisphere_img_urls.append({'title': title, 'img_url': hemisphere_img_url})\n",
    "hemisphere_img_urls"
   ]
  }
 ],
 "metadata": {
  "kernelspec": {
   "display_name": "Python 3 (ipykernel)",
   "language": "python",
   "name": "python3"
  },
  "language_info": {
   "codemirror_mode": {
    "name": "ipython",
    "version": 3
   },
   "file_extension": ".py",
   "mimetype": "text/x-python",
   "name": "python",
   "nbconvert_exporter": "python",
   "pygments_lexer": "ipython3",
   "version": "3.8.13"
  }
 },
 "nbformat": 4,
 "nbformat_minor": 5
}
